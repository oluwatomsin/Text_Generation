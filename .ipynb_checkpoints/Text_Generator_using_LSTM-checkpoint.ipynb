{
 "cells": [
  {
   "cell_type": "markdown",
   "metadata": {},
   "source": [
    "## Import relevant libraries"
   ]
  },
  {
   "cell_type": "code",
   "execution_count": 11,
   "metadata": {},
   "outputs": [],
   "source": [
    "import pandas as pd\n",
    "import tensorflow as tf\n",
    "import string\n",
    "from gensim.utils import simple_preprocess\n",
    "from gensim.parsing.preprocessing import strip_multiple_whitespaces, strip_punctuation, strip_numeric"
   ]
  },
  {
   "cell_type": "code",
   "execution_count": 2,
   "metadata": {},
   "outputs": [
    {
     "data": {
      "text/html": [
       "<div>\n",
       "<style scoped>\n",
       "    .dataframe tbody tr th:only-of-type {\n",
       "        vertical-align: middle;\n",
       "    }\n",
       "\n",
       "    .dataframe tbody tr th {\n",
       "        vertical-align: top;\n",
       "    }\n",
       "\n",
       "    .dataframe thead th {\n",
       "        text-align: right;\n",
       "    }\n",
       "</style>\n",
       "<table border=\"1\" class=\"dataframe\">\n",
       "  <thead>\n",
       "    <tr style=\"text-align: right;\">\n",
       "      <th></th>\n",
       "      <th>Title</th>\n",
       "      <th>Poem</th>\n",
       "      <th>Poet</th>\n",
       "      <th>Tags</th>\n",
       "    </tr>\n",
       "  </thead>\n",
       "  <tbody>\n",
       "    <tr>\n",
       "      <th>0</th>\n",
       "      <td>\\r\\r\\n                    Objects Used to Prop...</td>\n",
       "      <td>\\r\\r\\nDog bone, stapler,\\r\\r\\ncribbage board, ...</td>\n",
       "      <td>Michelle Menting</td>\n",
       "      <td>NaN</td>\n",
       "    </tr>\n",
       "    <tr>\n",
       "      <th>1</th>\n",
       "      <td>\\r\\r\\n                    The New Church\\r\\r\\n...</td>\n",
       "      <td>\\r\\r\\nThe old cupola glinted above the clouds,...</td>\n",
       "      <td>Lucia Cherciu</td>\n",
       "      <td>NaN</td>\n",
       "    </tr>\n",
       "    <tr>\n",
       "      <th>2</th>\n",
       "      <td>\\r\\r\\n                    Look for Me\\r\\r\\n   ...</td>\n",
       "      <td>\\r\\r\\nLook for me under the hood\\r\\r\\nof that ...</td>\n",
       "      <td>Ted Kooser</td>\n",
       "      <td>NaN</td>\n",
       "    </tr>\n",
       "    <tr>\n",
       "      <th>3</th>\n",
       "      <td>\\r\\r\\n                    Wild Life\\r\\r\\n     ...</td>\n",
       "      <td>\\r\\r\\nBehind the silo, the Mother Rabbit\\r\\r\\n...</td>\n",
       "      <td>Grace Cavalieri</td>\n",
       "      <td>NaN</td>\n",
       "    </tr>\n",
       "    <tr>\n",
       "      <th>4</th>\n",
       "      <td>\\r\\r\\n                    Umbrella\\r\\r\\n      ...</td>\n",
       "      <td>\\r\\r\\nWhen I push your button\\r\\r\\nyou fly off...</td>\n",
       "      <td>Connie Wanek</td>\n",
       "      <td>NaN</td>\n",
       "    </tr>\n",
       "  </tbody>\n",
       "</table>\n",
       "</div>"
      ],
      "text/plain": [
       "                                               Title  \\\n",
       "0  \\r\\r\\n                    Objects Used to Prop...   \n",
       "1  \\r\\r\\n                    The New Church\\r\\r\\n...   \n",
       "2  \\r\\r\\n                    Look for Me\\r\\r\\n   ...   \n",
       "3  \\r\\r\\n                    Wild Life\\r\\r\\n     ...   \n",
       "4  \\r\\r\\n                    Umbrella\\r\\r\\n      ...   \n",
       "\n",
       "                                                Poem              Poet Tags  \n",
       "0  \\r\\r\\nDog bone, stapler,\\r\\r\\ncribbage board, ...  Michelle Menting  NaN  \n",
       "1  \\r\\r\\nThe old cupola glinted above the clouds,...     Lucia Cherciu  NaN  \n",
       "2  \\r\\r\\nLook for me under the hood\\r\\r\\nof that ...        Ted Kooser  NaN  \n",
       "3  \\r\\r\\nBehind the silo, the Mother Rabbit\\r\\r\\n...   Grace Cavalieri  NaN  \n",
       "4  \\r\\r\\nWhen I push your button\\r\\r\\nyou fly off...      Connie Wanek  NaN  "
      ]
     },
     "execution_count": 2,
     "metadata": {},
     "output_type": "execute_result"
    }
   ],
   "source": [
    "df = pd.read_csv('PoetryFoundationData.csv', index_col=0)\n",
    "df.head()"
   ]
  },
  {
   "cell_type": "code",
   "execution_count": 3,
   "metadata": {},
   "outputs": [
    {
     "data": {
      "text/html": [
       "<div>\n",
       "<style scoped>\n",
       "    .dataframe tbody tr th:only-of-type {\n",
       "        vertical-align: middle;\n",
       "    }\n",
       "\n",
       "    .dataframe tbody tr th {\n",
       "        vertical-align: top;\n",
       "    }\n",
       "\n",
       "    .dataframe thead th {\n",
       "        text-align: right;\n",
       "    }\n",
       "</style>\n",
       "<table border=\"1\" class=\"dataframe\">\n",
       "  <thead>\n",
       "    <tr style=\"text-align: right;\">\n",
       "      <th></th>\n",
       "      <th>Title</th>\n",
       "      <th>Poem</th>\n",
       "      <th>Poet</th>\n",
       "    </tr>\n",
       "    <tr>\n",
       "      <th>Poet</th>\n",
       "      <th></th>\n",
       "      <th></th>\n",
       "      <th></th>\n",
       "    </tr>\n",
       "  </thead>\n",
       "  <tbody>\n",
       "    <tr>\n",
       "      <th>Michelle Menting</th>\n",
       "      <td>\\r\\r\\n                    Objects Used to Prop...</td>\n",
       "      <td>\\r\\r\\nDog bone, stapler,\\r\\r\\ncribbage board, ...</td>\n",
       "      <td>Michelle Menting</td>\n",
       "    </tr>\n",
       "    <tr>\n",
       "      <th>Lucia Cherciu</th>\n",
       "      <td>\\r\\r\\n                    The New Church\\r\\r\\n...</td>\n",
       "      <td>\\r\\r\\nThe old cupola glinted above the clouds,...</td>\n",
       "      <td>Lucia Cherciu</td>\n",
       "    </tr>\n",
       "    <tr>\n",
       "      <th>Ted Kooser</th>\n",
       "      <td>\\r\\r\\n                    Look for Me\\r\\r\\n   ...</td>\n",
       "      <td>\\r\\r\\nLook for me under the hood\\r\\r\\nof that ...</td>\n",
       "      <td>Ted Kooser</td>\n",
       "    </tr>\n",
       "    <tr>\n",
       "      <th>Grace Cavalieri</th>\n",
       "      <td>\\r\\r\\n                    Wild Life\\r\\r\\n     ...</td>\n",
       "      <td>\\r\\r\\nBehind the silo, the Mother Rabbit\\r\\r\\n...</td>\n",
       "      <td>Grace Cavalieri</td>\n",
       "    </tr>\n",
       "    <tr>\n",
       "      <th>Connie Wanek</th>\n",
       "      <td>\\r\\r\\n                    Umbrella\\r\\r\\n      ...</td>\n",
       "      <td>\\r\\r\\nWhen I push your button\\r\\r\\nyou fly off...</td>\n",
       "      <td>Connie Wanek</td>\n",
       "    </tr>\n",
       "  </tbody>\n",
       "</table>\n",
       "</div>"
      ],
      "text/plain": [
       "                                                              Title  \\\n",
       "Poet                                                                  \n",
       "Michelle Menting  \\r\\r\\n                    Objects Used to Prop...   \n",
       "Lucia Cherciu     \\r\\r\\n                    The New Church\\r\\r\\n...   \n",
       "Ted Kooser        \\r\\r\\n                    Look for Me\\r\\r\\n   ...   \n",
       "Grace Cavalieri   \\r\\r\\n                    Wild Life\\r\\r\\n     ...   \n",
       "Connie Wanek      \\r\\r\\n                    Umbrella\\r\\r\\n      ...   \n",
       "\n",
       "                                                               Poem  \\\n",
       "Poet                                                                  \n",
       "Michelle Menting  \\r\\r\\nDog bone, stapler,\\r\\r\\ncribbage board, ...   \n",
       "Lucia Cherciu     \\r\\r\\nThe old cupola glinted above the clouds,...   \n",
       "Ted Kooser        \\r\\r\\nLook for me under the hood\\r\\r\\nof that ...   \n",
       "Grace Cavalieri   \\r\\r\\nBehind the silo, the Mother Rabbit\\r\\r\\n...   \n",
       "Connie Wanek      \\r\\r\\nWhen I push your button\\r\\r\\nyou fly off...   \n",
       "\n",
       "                              Poet  \n",
       "Poet                                \n",
       "Michelle Menting  Michelle Menting  \n",
       "Lucia Cherciu        Lucia Cherciu  \n",
       "Ted Kooser              Ted Kooser  \n",
       "Grace Cavalieri    Grace Cavalieri  \n",
       "Connie Wanek          Connie Wanek  "
      ]
     },
     "execution_count": 3,
     "metadata": {},
     "output_type": "execute_result"
    }
   ],
   "source": [
    "df.index = df.Poet\n",
    "df.drop('Tags', axis = 1, inplace=True)\n",
    "df.head()"
   ]
  },
  {
   "cell_type": "code",
   "execution_count": 4,
   "metadata": {},
   "outputs": [],
   "source": [
    "charles = df.loc['Charles Bukowski']"
   ]
  },
  {
   "cell_type": "code",
   "execution_count": 5,
   "metadata": {},
   "outputs": [
    {
     "data": {
      "text/html": [
       "<div>\n",
       "<style scoped>\n",
       "    .dataframe tbody tr th:only-of-type {\n",
       "        vertical-align: middle;\n",
       "    }\n",
       "\n",
       "    .dataframe tbody tr th {\n",
       "        vertical-align: top;\n",
       "    }\n",
       "\n",
       "    .dataframe thead th {\n",
       "        text-align: right;\n",
       "    }\n",
       "</style>\n",
       "<table border=\"1\" class=\"dataframe\">\n",
       "  <thead>\n",
       "    <tr style=\"text-align: right;\">\n",
       "      <th></th>\n",
       "      <th>Title</th>\n",
       "      <th>Poem</th>\n",
       "      <th>Poet</th>\n",
       "    </tr>\n",
       "    <tr>\n",
       "      <th>Poet</th>\n",
       "      <th></th>\n",
       "      <th></th>\n",
       "      <th></th>\n",
       "    </tr>\n",
       "  </thead>\n",
       "  <tbody>\n",
       "    <tr>\n",
       "      <th>Charles Bukowski</th>\n",
       "      <td>\\r\\r\\n                    vegas\\r\\r\\n         ...</td>\n",
       "      <td>\\r\\r\\nthere was a frozen tree that I wanted to...</td>\n",
       "      <td>Charles Bukowski</td>\n",
       "    </tr>\n",
       "    <tr>\n",
       "      <th>Charles Bukowski</th>\n",
       "      <td>\\r\\r\\n                    a 340 dollar horse a...</td>\n",
       "      <td>\\r\\r\\ndon’t ever get the idea I am a poet; you...</td>\n",
       "      <td>Charles Bukowski</td>\n",
       "    </tr>\n",
       "    <tr>\n",
       "      <th>Charles Bukowski</th>\n",
       "      <td>\\r\\r\\n                    i wanted to overthro...</td>\n",
       "      <td>\\r\\r\\n30 dogs, 20 men on 20 horses and one fox...</td>\n",
       "      <td>Charles Bukowski</td>\n",
       "    </tr>\n",
       "    <tr>\n",
       "      <th>Charles Bukowski</th>\n",
       "      <td>\\r\\r\\n                    x-pug\\r\\r\\n         ...</td>\n",
       "      <td>\\r\\r\\nhe hooked to the body hard\\r\\r\\ntook it ...</td>\n",
       "      <td>Charles Bukowski</td>\n",
       "    </tr>\n",
       "    <tr>\n",
       "      <th>Charles Bukowski</th>\n",
       "      <td>\\r\\r\\n                    the weather is hot o...</td>\n",
       "      <td>\\r\\r\\nthe weather is hot on the back of my wat...</td>\n",
       "      <td>Charles Bukowski</td>\n",
       "    </tr>\n",
       "  </tbody>\n",
       "</table>\n",
       "</div>"
      ],
      "text/plain": [
       "                                                              Title  \\\n",
       "Poet                                                                  \n",
       "Charles Bukowski  \\r\\r\\n                    vegas\\r\\r\\n         ...   \n",
       "Charles Bukowski  \\r\\r\\n                    a 340 dollar horse a...   \n",
       "Charles Bukowski  \\r\\r\\n                    i wanted to overthro...   \n",
       "Charles Bukowski  \\r\\r\\n                    x-pug\\r\\r\\n         ...   \n",
       "Charles Bukowski  \\r\\r\\n                    the weather is hot o...   \n",
       "\n",
       "                                                               Poem  \\\n",
       "Poet                                                                  \n",
       "Charles Bukowski  \\r\\r\\nthere was a frozen tree that I wanted to...   \n",
       "Charles Bukowski  \\r\\r\\ndon’t ever get the idea I am a poet; you...   \n",
       "Charles Bukowski  \\r\\r\\n30 dogs, 20 men on 20 horses and one fox...   \n",
       "Charles Bukowski  \\r\\r\\nhe hooked to the body hard\\r\\r\\ntook it ...   \n",
       "Charles Bukowski  \\r\\r\\nthe weather is hot on the back of my wat...   \n",
       "\n",
       "                              Poet  \n",
       "Poet                                \n",
       "Charles Bukowski  Charles Bukowski  \n",
       "Charles Bukowski  Charles Bukowski  \n",
       "Charles Bukowski  Charles Bukowski  \n",
       "Charles Bukowski  Charles Bukowski  \n",
       "Charles Bukowski  Charles Bukowski  "
      ]
     },
     "execution_count": 5,
     "metadata": {},
     "output_type": "execute_result"
    }
   ],
   "source": [
    "charles.head()"
   ]
  },
  {
   "cell_type": "code",
   "execution_count": 33,
   "metadata": {},
   "outputs": [],
   "source": [
    "charles_poems = ' '.join(charles.Poem.to_list())"
   ]
  },
  {
   "cell_type": "code",
   "execution_count": 34,
   "metadata": {},
   "outputs": [],
   "source": [
    "charles_poems = charles_poems.lstrip().rstrip().split('\\n')"
   ]
  },
  {
   "cell_type": "code",
   "execution_count": 35,
   "metadata": {},
   "outputs": [],
   "source": [
    "charles_poems = [strip_numeric(text.lower()) for text in charles_poems]\n",
    "charles_poems = [strip_punctuation(text) for text in charles_poems]\n",
    "charles_poems = [strip_multiple_whitespaces(text) for text in charles_poems]"
   ]
  },
  {
   "cell_type": "code",
   "execution_count": 36,
   "metadata": {},
   "outputs": [
    {
     "data": {
      "text/plain": [
       "['there was a frozen tree that i wanted to paint ',\n",
       " 'but the shells came down ',\n",
       " 'and in vegas looking across at a green sunshade ',\n",
       " 'at in the morning ',\n",
       " 'i died without nails without a copy of the atlantic monthly ',\n",
       " 'the windows screamed like doves moaning the bombing of milan ',\n",
       " 'and i went out to live with the rats ',\n",
       " 'but the lights were too bright ',\n",
       " 'and i thought maybe i d better go back and sit in a ',\n",
       " 'poetry class ',\n",
       " ' a marvelous description of a gazelle ',\n",
       " ' is hell ',\n",
       " ' the cross sits like a fly on my window ',\n",
       " ' my mother’s breath stirs small leaves ',\n",
       " ' in my mind ',\n",
       " 'and i hitch hiked back to l a through hangover clouds ',\n",
       " 'and i pulled a letter from my pocket and read it ',\n",
       " 'and the truckdriver said what’s that ',\n",
       " 'and i said there s some gal up north who used to ',\n",
       " 'sleep with pound she s trying to tell me that h d ',\n",
       " 'was our greatest scribe well hilda gave us a few pink ',\n",
       " 'grecian gods in with the chinaware but after reading her ',\n",
       " 'i still have icicles hanging from my bones ',\n",
       " 'i m not going all the way to l a the truckdriver said ',\n",
       " 'it s all right i said the calla lilies nod to our minds ',\n",
       " 'and someday we’ll all go home ',\n",
       " 'together ',\n",
       " 'in fact he said this is as far ',\n",
       " 'as we go ',\n",
       " 'so i let him have it old withered whore of time ']"
      ]
     },
     "execution_count": 36,
     "metadata": {},
     "output_type": "execute_result"
    }
   ],
   "source": [
    "charles_poems[:30]"
   ]
  },
  {
   "cell_type": "code",
   "execution_count": 37,
   "metadata": {},
   "outputs": [
    {
     "data": {
      "text/plain": [
       "['there',\n",
       " 'was',\n",
       " 'a',\n",
       " 'frozen',\n",
       " 'tree',\n",
       " 'that',\n",
       " 'i',\n",
       " 'wanted',\n",
       " 'to',\n",
       " 'paint',\n",
       " 'but',\n",
       " 'the',\n",
       " 'shells',\n",
       " 'came',\n",
       " 'down',\n",
       " 'and',\n",
       " 'in',\n",
       " 'vegas',\n",
       " 'looking',\n",
       " 'across',\n",
       " 'at',\n",
       " 'a',\n",
       " 'green',\n",
       " 'sunshade',\n",
       " 'at',\n",
       " 'in',\n",
       " 'the',\n",
       " 'morning',\n",
       " 'i',\n",
       " 'died']"
      ]
     },
     "execution_count": 37,
     "metadata": {},
     "output_type": "execute_result"
    }
   ],
   "source": [
    "charles_poems = ' '.join(charles_poems).split()\n",
    "charles_poems[:30]"
   ]
  },
  {
   "cell_type": "code",
   "execution_count": 39,
   "metadata": {},
   "outputs": [
    {
     "name": "stdout",
     "output_type": "stream",
     "text": [
      "This lenght of this document is 5125\n"
     ]
    }
   ],
   "source": [
    "print(f\"This lenght of this document is {len(charles_poems)}\")"
   ]
  },
  {
   "cell_type": "code",
   "execution_count": 40,
   "metadata": {},
   "outputs": [
    {
     "name": "stdout",
     "output_type": "stream",
     "text": [
      "The number of unique words in the corpus is 1351\n"
     ]
    }
   ],
   "source": [
    "print(f\"The number of unique words in the corpus is {len(set(charles_poems))}\")"
   ]
  },
  {
   "cell_type": "code",
   "execution_count": 42,
   "metadata": {},
   "outputs": [
    {
     "name": "stdout",
     "output_type": "stream",
     "text": [
      "there was a frozen tree that i wanted to paint but the shells came down and in vegas looking across at a green sunshade at in the morning i died without\n"
     ]
    }
   ],
   "source": [
    "lenght = 30 + 1\n",
    "lines = []\n",
    "\n",
    "for i in range(lenght, len(charles_poems)):\n",
    "    seq_of_words = charles_poems[i-lenght:i]\n",
    "    line = ' '.join(seq_of_words)\n",
    "    lines.append(line)\n",
    "    \n",
    "print(lines[0])"
   ]
  },
  {
   "cell_type": "code",
   "execution_count": 43,
   "metadata": {},
   "outputs": [
    {
     "name": "stdout",
     "output_type": "stream",
     "text": [
      "was a frozen tree that i wanted to paint but the shells came down and in vegas looking across at a green sunshade at in the morning i died without nails\n"
     ]
    }
   ],
   "source": [
    "print(lines[1])"
   ]
  },
  {
   "cell_type": "code",
   "execution_count": 44,
   "metadata": {},
   "outputs": [
    {
     "data": {
      "text/plain": [
       "5094"
      ]
     },
     "execution_count": 44,
     "metadata": {},
     "output_type": "execute_result"
    }
   ],
   "source": [
    "len(lines)"
   ]
  },
  {
   "cell_type": "code",
   "execution_count": 45,
   "metadata": {},
   "outputs": [],
   "source": [
    "# Building the model"
   ]
  },
  {
   "cell_type": "code",
   "execution_count": 46,
   "metadata": {},
   "outputs": [],
   "source": [
    "import numpy as np\n",
    "from tensorflow.keras.preprocessing.text import Tokenizer\n",
    "from tensorflow.keras.preprocessing.sequence import pad_sequences\n",
    "from tensorflow.keras.layers import Dense, LSTM, Embedding\n",
    "from tensorflow.keras.models import Sequential\n",
    "from tensorflow.keras.utils import to_categorical"
   ]
  },
  {
   "cell_type": "code",
   "execution_count": 49,
   "metadata": {},
   "outputs": [],
   "source": [
    "tokenizer = Tokenizer()"
   ]
  },
  {
   "cell_type": "code",
   "execution_count": 50,
   "metadata": {},
   "outputs": [],
   "source": [
    "tokenizer.fit_on_texts(lines)"
   ]
  },
  {
   "cell_type": "code",
   "execution_count": null,
   "metadata": {},
   "outputs": [],
   "source": []
  }
 ],
 "metadata": {
  "kernelspec": {
   "display_name": "Python 3",
   "language": "python",
   "name": "python3"
  },
  "language_info": {
   "codemirror_mode": {
    "name": "ipython",
    "version": 3
   },
   "file_extension": ".py",
   "mimetype": "text/x-python",
   "name": "python",
   "nbconvert_exporter": "python",
   "pygments_lexer": "ipython3",
   "version": "3.8.5"
  }
 },
 "nbformat": 4,
 "nbformat_minor": 4
}
